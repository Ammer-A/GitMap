{
  "nbformat": 4,
  "nbformat_minor": 0,
  "metadata": {
    "colab": {
      "provenance": [],
      "authorship_tag": "ABX9TyMdF0gZsRK3297FnC+kmJFg",
      "include_colab_link": true
    },
    "kernelspec": {
      "name": "python3",
      "display_name": "Python 3"
    },
    "language_info": {
      "name": "python"
    }
  },
  "cells": [
    {
      "cell_type": "markdown",
      "metadata": {
        "id": "view-in-github",
        "colab_type": "text"
      },
      "source": [
        "<a href=\"https://colab.research.google.com/github/Ammer-A/GitMap/blob/main/Gitmap.ipynb\" target=\"_parent\"><img src=\"https://colab.research.google.com/assets/colab-badge.svg\" alt=\"Open In Colab\"/></a>"
      ]
    },
    {
      "cell_type": "code",
      "execution_count": null,
      "metadata": {
        "colab": {
          "base_uri": "https://localhost:8080/"
        },
        "collapsed": true,
        "id": "PvrAlCaY4Gj2",
        "outputId": "35c44c3a-b396-486f-d851-e9c7a4a7d3a3"
      },
      "outputs": [
        {
          "output_type": "stream",
          "name": "stdout",
          "text": [
            "Requirement already satisfied: flask in /usr/local/lib/python3.11/dist-packages (3.1.0)\n",
            "Collecting jsonify\n",
            "  Downloading jsonify-0.5.tar.gz (1.0 kB)\n",
            "  Preparing metadata (setup.py) ... \u001b[?25l\u001b[?25hdone\n",
            "Requirement already satisfied: Werkzeug>=3.1 in /usr/local/lib/python3.11/dist-packages (from flask) (3.1.3)\n",
            "Requirement already satisfied: Jinja2>=3.1.2 in /usr/local/lib/python3.11/dist-packages (from flask) (3.1.5)\n",
            "Requirement already satisfied: itsdangerous>=2.2 in /usr/local/lib/python3.11/dist-packages (from flask) (2.2.0)\n",
            "Requirement already satisfied: click>=8.1.3 in /usr/local/lib/python3.11/dist-packages (from flask) (8.1.8)\n",
            "Requirement already satisfied: blinker>=1.9 in /usr/local/lib/python3.11/dist-packages (from flask) (1.9.0)\n",
            "Requirement already satisfied: MarkupSafe>=2.0 in /usr/local/lib/python3.11/dist-packages (from Jinja2>=3.1.2->flask) (3.0.2)\n",
            "Building wheels for collected packages: jsonify\n",
            "  Building wheel for jsonify (setup.py) ... \u001b[?25l\u001b[?25hdone\n",
            "  Created wheel for jsonify: filename=jsonify-0.5-py3-none-any.whl size=1538 sha256=e4362b1c1287e88cbcf49a74f731c39e1b9a158898a4380071d5f2eb696e9882\n",
            "  Stored in directory: /root/.cache/pip/wheels/8b/0b/70/cd8a2f72ec6e8dbab2d7fffe3e8a545f4d152255cc7e8541f5\n",
            "Successfully built jsonify\n",
            "Installing collected packages: jsonify\n",
            "Successfully installed jsonify-0.5\n"
          ]
        }
      ],
      "source": [
        "!pip install flask jsonify\n"
      ]
    },
    {
      "cell_type": "code",
      "source": [
        "!pip install requests\n",
        "!pip install graphviz\n",
        "!pip install  gitPython"
      ],
      "metadata": {
        "colab": {
          "base_uri": "https://localhost:8080/"
        },
        "collapsed": true,
        "id": "6RZrkcl16UeV",
        "outputId": "42a44bb2-cea6-4c15-d62f-e119d2fa68c6"
      },
      "execution_count": null,
      "outputs": [
        {
          "output_type": "stream",
          "name": "stdout",
          "text": [
            "Requirement already satisfied: requests in /usr/local/lib/python3.11/dist-packages (2.32.3)\n",
            "Requirement already satisfied: charset-normalizer<4,>=2 in /usr/local/lib/python3.11/dist-packages (from requests) (3.4.1)\n",
            "Requirement already satisfied: idna<4,>=2.5 in /usr/local/lib/python3.11/dist-packages (from requests) (3.10)\n",
            "Requirement already satisfied: urllib3<3,>=1.21.1 in /usr/local/lib/python3.11/dist-packages (from requests) (2.3.0)\n",
            "Requirement already satisfied: certifi>=2017.4.17 in /usr/local/lib/python3.11/dist-packages (from requests) (2024.12.14)\n",
            "Requirement already satisfied: graphviz in /usr/local/lib/python3.11/dist-packages (0.20.3)\n",
            "Requirement already satisfied: gitPython in /usr/local/lib/python3.11/dist-packages (3.1.44)\n",
            "Requirement already satisfied: gitdb<5,>=4.0.1 in /usr/local/lib/python3.11/dist-packages (from gitPython) (4.0.12)\n",
            "Requirement already satisfied: smmap<6,>=3.0.1 in /usr/local/lib/python3.11/dist-packages (from gitdb<5,>=4.0.1->gitPython) (5.0.2)\n"
          ]
        }
      ]
    },
    {
      "cell_type": "code",
      "source": [
        "import os\n",
        "os.makedirs('/content/GitGPS/mind', exist_ok=True)"
      ],
      "metadata": {
        "id": "OtVEAMjLK_gt"
      },
      "execution_count": null,
      "outputs": []
    },
    {
      "cell_type": "code",
      "source": [
        "# mapMake= \"\"\"\n",
        "import numpy as np\n",
        "import git\n",
        "import requests\n",
        "import heapq\n",
        "from typing import dict ,list\n",
        "from graphviz import Digraph\n",
        "from Ipython.core.display import display,HTML\n",
        "\n",
        "class CommitGraphGen:\n",
        "  \"to lay groundwork\"\n",
        "  def ginit(self, token:str, repo_nam:str, min_depth: int 10, max_depth=50)\n",
        "\n",
        "\"value depth\"\n",
        "if min_depth > max_depth :\n",
        "  raise valueError('user inputed range is not acceptable')\n",
        "  self.g=Github(token)\n",
        "  self.repo= self.g.get_repo(repo_nam)\n",
        "  self.min_depth=min_depth\n",
        "  self.max_depth=max_depth\n",
        "  self.commits: list[commit.commit]=[]\n",
        "  self.commit_graph: Dict[str, Dict] ={}\n",
        "\n",
        "  def fetch_commits(self):\n",
        "    current=self.repo.get_commits().get_page (0)[0]\n",
        "    chain=[current]\n",
        "    depth=1\n",
        "    while depth <self.max_depth and current parents:\n",
        "      current=current.parents[0].commit\n",
        "      chain.append(current)\n",
        "      depth+=1\n",
        "      if  depth >= self.min_depth  and depth >=self.max_depth:\n",
        "        break\n",
        "\n",
        "        self.commit = chain\n",
        "        if len(self.commits)< self.min_depth:\n",
        "          print(f\"blah blah can only find these {len(self.commmits)}\" commits(min_depth={self.min_depth}))\n",
        "\n",
        "        def graph_builder_guy(self):\n",
        "          for commit in self.commits:\n",
        "            checks = commit.get_check_run\n"
      ],
      "metadata": {
        "id": "B6J5FLNvIsCt"
      },
      "execution_count": null,
      "outputs": []
    }
  ]
}